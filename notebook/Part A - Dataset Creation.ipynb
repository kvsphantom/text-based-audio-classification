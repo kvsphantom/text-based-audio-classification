{
 "cells": [
  {
   "cell_type": "markdown",
   "metadata": {},
   "source": [
    "<h1 style=\"color:#AB4646;font-size:50px;\"> ASSIGNMENT<br>Text-based audio classification</h1>\n"
   ]
  },
  {
   "cell_type": "markdown",
   "metadata": {},
   "source": [
    "# PART A - Prepare and explore your dataset\n",
    "\n",
    "To run the cells in this notebook you'll need to install the following Python dependencies:\n",
    " * `numpy`\n",
    " * `sklearn`\n",
    "\n",
    "If you have not installed them you should be able to do so by running: `pip install numpy sklearn`.\n",
    "\n",
    "Furthermore, you'll need to get **Freesound API** credentials so that you can retreive sounds' metadata for building your dataset. Please create a Freesound account (if you don't already have one) and go here: [http://www.freesound.org/apiv2/apply/](http://www.freesound.org/apiv2/apply/). Set `API_KEY` variable below to the given API key."
   ]
  },
  {
   "cell_type": "code",
   "execution_count": 2,
   "metadata": {},
   "outputs": [],
   "source": [
    "from __future__ import print_function\n",
    "import freesound\n",
    "import random\n",
    "import utils\n",
    "import json\n",
    "from IPython.core.display import display, HTML\n",
    "from collections import defaultdict\n",
    "\n",
    "API_KEY='uo6MmiMPAJiWkAxjP0aMOmJoeS7H0IN7pshv2p7a'\n",
    "c = freesound.FreesoundClient()\n",
    "c.set_token(API_KEY,\"token\")\n",
    "PAGE_SIZE = 50 # Page size for fs requests, no need to change that"
   ]
  },
  {
   "cell_type": "markdown",
   "metadata": {},
   "source": [
    "### 1) Select your audio categories and get metadata from Freesound for each category\n",
    "\n",
    "For the task in this session we provide a pre-selected number of audio categories with a number of Freesound sound IDs linked to them. The first step is to choose which classes to include in the dataset that we'll use later for classification and to get metadata for each sound in our dataset.\n",
    "\n",
    " * Chose the categories you want to work with by editing the `DATASET_CLASSES` list below. \n",
    " * You can limit the number of sounds chosen per class by setting the `N` parameter. \n",
    " * The resulting dataset will be saved to a file named `DATASET_NAME.json`. This file will be loaded later in another  notebook to carry out the classification task."
   ]
  },
  {
   "cell_type": "code",
   "execution_count": 4,
   "metadata": {
    "scrolled": false
   },
   "outputs": [
    {
     "name": "stdout",
     "output_type": "stream",
     "text": [
      "Getting sounds' data for class Percussion...\n",
      "Getting sounds' data for class Wind instrument, woodwind instrument...\n",
      "Getting sounds' data for class Bowed string instrument...\n",
      "Getting sounds' data for class Domestic sounds, home sounds...\n",
      "\n",
      "Dataset created with 4 classes:\n",
      "\tWind instrument, woodwind instrument: 200 sounds\n",
      "\tBowed string instrument: 200 sounds\n",
      "\tPercussion: 200 sounds\n",
      "\tDomestic sounds, home sounds: 200 sounds\n",
      "Saved to instruments.json\n"
     ]
    }
   ],
   "source": [
    "# Configure dataset parameters and audio categories\n",
    "\n",
    "DATASET_NAME = 'instruments' # Dataset will be saved in a .json file with this name\n",
    "N = None # Number of sounds per class (set 'None' to get all in dataset)\n",
    "DATASET_CLASSES = [\n",
    "    'Percussion', \n",
    "    'Wind instrument, woodwind instrument', \n",
    "    'Bowed string instrument', \n",
    "    'Domestic sounds, home sounds', \n",
    " ]  \n",
    "\n",
    "# Get sound examples from Freesound\n",
    "data_index =  json.load(open('data_index.json'))\n",
    "dataset = defaultdict(list)\n",
    "\n",
    "for klass in DATASET_CLASSES:\n",
    "    sound_ids = data_index.get(klass, None)\n",
    "    if sound_ids is None:\n",
    "        print('Skipping class %s as no data is available for it' % klass)\n",
    "        continue\n",
    "    random.shuffle(sound_ids)  # Shuffle order of sound ids\n",
    "    sound_ids = sound_ids[:N]  # Limit number of selected sound ids\n",
    "    \n",
    "    print('Getting sounds\\' data for class %s...' % klass)\n",
    "    for i in range(0, len(sound_ids), PAGE_SIZE):\n",
    "        current_sound_ids = sound_ids[i:i + PAGE_SIZE]\n",
    "    \n",
    "        fields = \"id,tags,description,username,analysis\"\n",
    "        # For the dataset classes :\n",
    "        #'Percussion','Wind instrument, woodwind instrument','Bowed string instrument','Domestic sounds, home sounds'\n",
    "        # the audio features : pitch_salience, spectral_flux, hfc, average_loudness and dissonance will be helpful.\n",
    "        descriptors = \"lowlevel.pitch_salience,lowlevel.dynamic_complexity,lowlevel.spectral_flux,lowlevel.hfc,lowlevel.average_loudness,lowlevel.dissonance\"\n",
    "        results_pager = c.text_search(\n",
    "            filter='id:(%s)' % ' OR '.join([str(sid) for sid in current_sound_ids]),\n",
    "            page_size=PAGE_SIZE,\n",
    "            fields = fields,\n",
    "            descriptors=descriptors\n",
    "        )\n",
    "        dataset[klass] += results_pager.results\n",
    "\n",
    "        # TIP ON AUDIO FEATURES: you can get also audio features extracted in freesound by passing a 'descriptors' \n",
    "        # parameter in the text_search function and including 'analysis' in the fields list \n",
    "        # (see http://www.freesound.org/docs/api/resources_apiv2.html#response-sound-list):\n",
    "        #\n",
    "        # fields = \"id,tags,description,username,analysis\"\n",
    "        # descriptors = \"lowlevel.spectral_centroid,lowlevel.barkbands.mean\"\n",
    "        #\n",
    "        # e.g.: results_page = c.text_search(query=target_query, ..., fields=fields, descriptors=descriptors)\n",
    "        # ...\n",
    "\n",
    "# Show information and save dataset to file so we can work with it later on\n",
    "utils.save_to_json('%s.json' % DATASET_NAME, dataset)\n",
    "print('\\nDataset created with %i classes:' % len(dataset))\n",
    "for klass, sounds in dataset.items():\n",
    "    print('\\t%s: %i sounds' % (klass, len(sounds)))\n",
    "print('Saved to %s' % '%s.json' % DATASET_NAME)"
   ]
  },
  {
   "cell_type": "markdown",
   "metadata": {},
   "source": [
    "### 2) Explore the dataset (know your data!)\n",
    "\n",
    "The cell below displays some data about your recently created dataset so you can have an idea of its contents. Feel free to experiment with the data and add any relevant plots that you might find useful for the future classificaiton task."
   ]
  },
  {
   "cell_type": "code",
   "execution_count": 7,
   "metadata": {
    "scrolled": false
   },
   "outputs": [
    {
     "data": {
      "text/html": [
       "<h3 style='color:#bbb;'>1) Percussion</h3><h4>Example sounds:</h4><br><iframe frameborder=\"0\" scrolling=\"no\" src=\"http://www.freesound.org/embed/sound/iframe/348910/simple/medium/\" width=\"481\" height=\"86\"></iframe><iframe frameborder=\"0\" scrolling=\"no\" src=\"http://www.freesound.org/embed/sound/iframe/325021/simple/medium/\" width=\"481\" height=\"86\"></iframe><iframe frameborder=\"0\" scrolling=\"no\" src=\"http://www.freesound.org/embed/sound/iframe/339285/simple/medium/\" width=\"481\" height=\"86\"></iframe><iframe frameborder=\"0\" scrolling=\"no\" src=\"http://www.freesound.org/embed/sound/iframe/334070/simple/medium/\" width=\"481\" height=\"86\"></iframe><iframe frameborder=\"0\" scrolling=\"no\" src=\"http://www.freesound.org/embed/sound/iframe/383625/simple/medium/\" width=\"481\" height=\"86\"></iframe><iframe frameborder=\"0\" scrolling=\"no\" src=\"http://www.freesound.org/embed/sound/iframe/380888/simple/medium/\" width=\"481\" height=\"86\"></iframe><h4>Most commons tags tagcloud:</h4><br><span style=\"font-size:15px;margin-right:10px;\">kick</span> <span style=\"font-size:10px;margin-right:10px;\">processed</span> <span style=\"font-size:10px;margin-right:10px;\">machine</span> <span style=\"font-size:10px;margin-right:10px;\">Glockenspiel</span> <span style=\"font-size:10px;margin-right:10px;\">reverb</span> <span style=\"font-size:10px;margin-right:10px;\">kick-drum</span> <span style=\"font-size:10px;margin-right:10px;\">909</span> <span style=\"font-size:14px;margin-right:10px;\">beat</span> <span style=\"font-size:10px;margin-right:10px;\">realistic</span> <span style=\"font-size:10px;margin-right:10px;\">toy</span> <span style=\"font-size:10px;margin-right:10px;\">single</span> <span style=\"font-size:10px;margin-right:10px;\">single-note</span> <span style=\"font-size:10px;margin-right:10px;\">drum-machine</span> <span style=\"font-size:10px;margin-right:10px;\">electronic</span> <span style=\"font-size:10px;margin-right:10px;\">tone</span> <span style=\"font-size:12px;margin-right:10px;\">hi-hat</span> <span style=\"font-size:10px;margin-right:10px;\">distortion</span> <span style=\"font-size:10px;margin-right:10px;\">techno</span> <span style=\"font-size:10px;margin-right:10px;\">hardstyle</span> <span style=\"font-size:10px;margin-right:10px;\">china</span> <span style=\"font-size:10px;margin-right:10px;\">plastic</span> <span style=\"font-size:10px;margin-right:10px;\">wav</span> <span style=\"font-size:10px;margin-right:10px;\">hardcore</span> <span style=\"font-size:10px;margin-right:10px;\">tamborine</span> <span style=\"font-size:10px;margin-right:10px;\">vsco-2</span> <span style=\"font-size:10px;margin-right:10px;\">pack</span> <span style=\"font-size:10px;margin-right:10px;\">xylophone</span> <span style=\"font-size:11px;margin-right:10px;\">snare</span> <span style=\"font-size:10px;margin-right:10px;\">gong</span> <span style=\"font-size:10px;margin-right:10px;\">sample</span> <span style=\"font-size:10px;margin-right:10px;\">CompMusic</span> <span style=\"font-size:10px;margin-right:10px;\">compmusic</span> <span style=\"font-size:10px;margin-right:10px;\">chinese-traditional</span> <span style=\"font-size:10px;margin-right:10px;\">qmul</span> <span style=\"font-size:10px;margin-right:10px;\">beijing-opera</span> <span style=\"font-size:10px;margin-right:10px;\">Tabla</span> <span style=\"font-size:10px;margin-right:10px;\">mallets</span> <span style=\"font-size:10px;margin-right:10px;\">peking-opera</span> <span style=\"font-size:10px;margin-right:10px;\">heavy</span> <span style=\"font-size:11px;margin-right:10px;\">metal</span> <span style=\"font-size:10px;margin-right:10px;\">glock</span> <span style=\"font-size:10px;margin-right:10px;\">musical-instrument</span> <span style=\"font-size:10px;margin-right:10px;\">tones</span> <span style=\"font-size:10px;margin-right:10px;\">mallet</span> <span style=\"font-size:10px;margin-right:10px;\">Tabla-stroke</span> <span style=\"font-size:10px;margin-right:10px;\">bassdrum</span> <span style=\"font-size:10px;margin-right:10px;\">icassp2014-dataset</span> <span style=\"font-size:10px;margin-right:10px;\">idiophone</span> <span style=\"font-size:12px;margin-right:10px;\">tambourine</span> <span style=\"font-size:10px;margin-right:10px;\">echo</span> <span style=\"font-size:10px;margin-right:10px;\">dance</span> <span style=\"font-size:10px;margin-right:10px;\">hard</span> <span style=\"font-size:10px;margin-right:10px;\">rhythm</span> <span style=\"font-size:10px;margin-right:10px;\">bd</span> <span style=\"font-size:10px;margin-right:10px;\">tribal</span> <span style=\"font-size:10px;margin-right:10px;\">dirty</span> <span style=\"font-size:10px;margin-right:10px;\">sampler</span> <span style=\"font-size:10px;margin-right:10px;\">xiaoluo-instrument</span> <span style=\"font-size:10px;margin-right:10px;\">Percussion</span> <span style=\"font-size:12px;margin-right:10px;\">1-shot</span> <span style=\"font-size:10px;margin-right:10px;\">edited</span> <span style=\"font-size:10px;margin-right:10px;\">recording</span> <span style=\"font-size:10px;margin-right:10px;\">tony</span> <span style=\"font-size:10px;margin-right:10px;\">acoustic</span> <span style=\"font-size:10px;margin-right:10px;\">808</span> <span style=\"font-size:10px;margin-right:10px;\">analog</span> <span style=\"font-size:10px;margin-right:10px;\">from</span> <span style=\"font-size:14px;margin-right:10px;\">cymbal</span> <span style=\"font-size:10px;margin-right:10px;\">hihat</span> <span style=\"font-size:28px;margin-right:10px;\">drum</span> <span style=\"font-size:10px;margin-right:10px;\">kit</span> <span style=\"font-size:10px;margin-right:10px;\">house</span> <span style=\"font-size:10px;margin-right:10px;\">timpani</span> <span style=\"font-size:10px;margin-right:10px;\">percussion-loop</span> <span style=\"font-size:12px;margin-right:10px;\">samples</span> <span style=\"font-size:10px;margin-right:10px;\">percussive</span> <span style=\"font-size:10px;margin-right:10px;\">note</span> <span style=\"font-size:10px;margin-right:10px;\">loop</span> <span style=\"font-size:11px;margin-right:10px;\">bass</span> <span style=\"font-size:13px;margin-right:10px;\">vibraphone</span> <span style=\"font-size:10px;margin-right:10px;\">one-shot</span> <span style=\"font-size:10px;margin-right:10px;\">real</span> <span style=\"font-size:10px;margin-right:10px;\">metallophone</span> <span style=\"font-size:10px;margin-right:10px;\">instrument</span> <span style=\"font-size:10px;margin-right:10px;\">multihit</span> <span style=\"font-size:12px;margin-right:10px;\">velocity</span> <span style=\"font-size:15px;margin-right:10px;\">drums</span> <span style=\"font-size:12px;margin-right:10px;\">tabla</span> <span style=\"font-size:10px;margin-right:10px;\">notes</span> <span style=\"font-size:11px;margin-right:10px;\">hit</span> <span style=\"font-size:10px;margin-right:10px;\">drum-loop</span> <span style=\"font-size:10px;margin-right:10px;\">incremental</span> <span style=\"font-size:10px;margin-right:10px;\">kickdrum</span> <span style=\"font-size:16px;margin-right:10px;\">multisample</span> <span style=\"font-size:10px;margin-right:10px;\">chinese</span> <span style=\"font-size:30px;margin-right:10px;\">percussion</span> <span style=\"font-size:10px;margin-right:10px;\">glockenspiel</span> <span style=\"font-size:10px;margin-right:10px;\">roll</span> <span style=\"font-size:10px;margin-right:10px;\">percs</span> <span style=\"font-size:10px;margin-right:10px;\">Indian-percussion</span> <br><br>"
      ],
      "text/plain": [
       "<IPython.core.display.HTML object>"
      ]
     },
     "metadata": {},
     "output_type": "display_data"
    },
    {
     "data": {
      "text/html": [
       "<h3 style='color:#bbb;'>2) Domestic sounds, home sounds</h3><h4>Example sounds:</h4><br><iframe frameborder=\"0\" scrolling=\"no\" src=\"http://www.freesound.org/embed/sound/iframe/325745/simple/medium/\" width=\"481\" height=\"86\"></iframe><iframe frameborder=\"0\" scrolling=\"no\" src=\"http://www.freesound.org/embed/sound/iframe/319943/simple/medium/\" width=\"481\" height=\"86\"></iframe><iframe frameborder=\"0\" scrolling=\"no\" src=\"http://www.freesound.org/embed/sound/iframe/322397/simple/medium/\" width=\"481\" height=\"86\"></iframe><iframe frameborder=\"0\" scrolling=\"no\" src=\"http://www.freesound.org/embed/sound/iframe/347216/simple/medium/\" width=\"481\" height=\"86\"></iframe><iframe frameborder=\"0\" scrolling=\"no\" src=\"http://www.freesound.org/embed/sound/iframe/353528/simple/medium/\" width=\"481\" height=\"86\"></iframe><iframe frameborder=\"0\" scrolling=\"no\" src=\"http://www.freesound.org/embed/sound/iframe/366445/simple/medium/\" width=\"481\" height=\"86\"></iframe><h4>Most commons tags tagcloud:</h4><br><span style=\"font-size:10px;margin-right:10px;\">door-bell</span> <span style=\"font-size:12px;margin-right:10px;\">Sell</span> <span style=\"font-size:10px;margin-right:10px;\">steel</span> <span style=\"font-size:13px;margin-right:10px;\">closing</span> <span style=\"font-size:10px;margin-right:10px;\">dry</span> <span style=\"font-size:10px;margin-right:10px;\">scrape</span> <span style=\"font-size:10px;margin-right:10px;\">office</span> <span style=\"font-size:12px;margin-right:10px;\">indiegamedev</span> <span style=\"font-size:12px;margin-right:10px;\">Money</span> <span style=\"font-size:10px;margin-right:10px;\">tearing</span> <span style=\"font-size:10px;margin-right:10px;\">bong</span> <span style=\"font-size:23px;margin-right:10px;\">drawer</span> <span style=\"font-size:11px;margin-right:10px;\">type</span> <span style=\"font-size:10px;margin-right:10px;\">old</span> <span style=\"font-size:15px;margin-right:10px;\">ring</span> <span style=\"font-size:13px;margin-right:10px;\">write</span> <span style=\"font-size:12px;margin-right:10px;\">Video-Game</span> <span style=\"font-size:14px;margin-right:10px;\">typewriter</span> <span style=\"font-size:13px;margin-right:10px;\">foley</span> <span style=\"font-size:10px;margin-right:10px;\">dryer</span> <span style=\"font-size:11px;margin-right:10px;\">percussion</span> <span style=\"font-size:11px;margin-right:10px;\">glass</span> <span style=\"font-size:10px;margin-right:10px;\">pencil</span> <span style=\"font-size:10px;margin-right:10px;\">jangling</span> <span style=\"font-size:12px;margin-right:10px;\">games</span> <span style=\"font-size:13px;margin-right:10px;\">Coins</span> <span style=\"font-size:10px;margin-right:10px;\">cutting</span> <span style=\"font-size:13px;margin-right:10px;\">ding</span> <span style=\"font-size:10px;margin-right:10px;\">hair</span> <span style=\"font-size:12px;margin-right:10px;\">house</span> <span style=\"font-size:10px;margin-right:10px;\">duct-tape</span> <span style=\"font-size:15px;margin-right:10px;\">kitchen</span> <span style=\"font-size:10px;margin-right:10px;\">sound</span> <span style=\"font-size:10px;margin-right:10px;\">ping</span> <span style=\"font-size:10px;margin-right:10px;\">short</span> <span style=\"font-size:10px;margin-right:10px;\">letter</span> <span style=\"font-size:17px;margin-right:10px;\">wooden</span> <span style=\"font-size:11px;margin-right:10px;\">typing</span> <span style=\"font-size:14px;margin-right:10px;\">scissors</span> <span style=\"font-size:15px;margin-right:10px;\">tape</span> <span style=\"font-size:18px;margin-right:10px;\">wood</span> <span style=\"font-size:12px;margin-right:10px;\">Gold</span> <span style=\"font-size:10px;margin-right:10px;\">ding-dong</span> <span style=\"font-size:16px;margin-right:10px;\">tap</span> <span style=\"font-size:10px;margin-right:10px;\">bag</span> <span style=\"font-size:11px;margin-right:10px;\">pen</span> <span style=\"font-size:10px;margin-right:10px;\">campus-upf</span> <span style=\"font-size:10px;margin-right:10px;\">keyboard</span> <span style=\"font-size:10px;margin-right:10px;\">sticky</span> <span style=\"font-size:17px;margin-right:10px;\">rip</span> <span style=\"font-size:12px;margin-right:10px;\">indiedev</span> <span style=\"font-size:11px;margin-right:10px;\">zipper</span> <span style=\"font-size:12px;margin-right:10px;\">Game</span> <span style=\"font-size:23px;margin-right:10px;\">close</span> <span style=\"font-size:10px;margin-right:10px;\">ripping</span> <span style=\"font-size:13px;margin-right:10px;\">money</span> <span style=\"font-size:21px;margin-right:10px;\">metal</span> <span style=\"font-size:15px;margin-right:10px;\">squeak</span> <span style=\"font-size:10px;margin-right:10px;\">mechanical</span> <span style=\"font-size:11px;margin-right:10px;\">coins</span> <span style=\"font-size:10px;margin-right:10px;\">drop</span> <span style=\"font-size:12px;margin-right:10px;\">Purchase</span> <span style=\"font-size:13px;margin-right:10px;\">key</span> <span style=\"font-size:11px;margin-right:10px;\">field-recording</span> <span style=\"font-size:12px;margin-right:10px;\">Currency</span> <span style=\"font-size:10px;margin-right:10px;\">electric</span> <span style=\"font-size:10px;margin-right:10px;\">microwave</span> <span style=\"font-size:12px;margin-right:10px;\">Realistic</span> <span style=\"font-size:12px;margin-right:10px;\">gamedeveloping</span> <span style=\"font-size:13px;margin-right:10px;\">Coin</span> <span style=\"font-size:11px;margin-right:10px;\">tear</span> <span style=\"font-size:12px;margin-right:10px;\">videogame</span> <span style=\"font-size:17px;margin-right:10px;\">paper</span> <span style=\"font-size:13px;margin-right:10px;\">hit</span> <span style=\"font-size:18px;margin-right:10px;\">writing</span> <span style=\"font-size:11px;margin-right:10px;\">squeaky</span> <span style=\"font-size:12px;margin-right:10px;\">sfx</span> <span style=\"font-size:15px;margin-right:10px;\">keys</span> <span style=\"font-size:10px;margin-right:10px;\">coin</span> <span style=\"font-size:10px;margin-right:10px;\">jingle</span> <span style=\"font-size:10px;margin-right:10px;\">household</span> <span style=\"font-size:12px;margin-right:10px;\">gamedev</span> <span style=\"font-size:30px;margin-right:10px;\">door</span> <span style=\"font-size:12px;margin-right:10px;\">gaming</span> <span style=\"font-size:13px;margin-right:10px;\">opening</span> <span style=\"font-size:10px;margin-right:10px;\">scribble</span> <span style=\"font-size:10px;margin-right:10px;\">gate</span> <span style=\"font-size:10px;margin-right:10px;\">creaking</span> <span style=\"font-size:17px;margin-right:10px;\">bell</span> <span style=\"font-size:11px;margin-right:10px;\">slide</span> <span style=\"font-size:10px;margin-right:10px;\">doorbell</span> <span style=\"font-size:12px;margin-right:10px;\">dong</span> <span style=\"font-size:11px;margin-right:10px;\">knock</span> <span style=\"font-size:10px;margin-right:10px;\">fabric</span> <span style=\"font-size:22px;margin-right:10px;\">open</span> <span style=\"font-size:12px;margin-right:10px;\">videogames</span> <span style=\"font-size:12px;margin-right:10px;\">OWI</span> <span style=\"font-size:11px;margin-right:10px;\">chime</span> <span style=\"font-size:13px;margin-right:10px;\">velcro</span> <span style=\"font-size:10px;margin-right:10px;\">cupboard</span> <br><br>"
      ],
      "text/plain": [
       "<IPython.core.display.HTML object>"
      ]
     },
     "metadata": {},
     "output_type": "display_data"
    },
    {
     "data": {
      "text/html": [
       "<h3 style='color:#bbb;'>3) Bowed string instrument</h3><h4>Example sounds:</h4><br><iframe frameborder=\"0\" scrolling=\"no\" src=\"http://www.freesound.org/embed/sound/iframe/354187/simple/medium/\" width=\"481\" height=\"86\"></iframe><iframe frameborder=\"0\" scrolling=\"no\" src=\"http://www.freesound.org/embed/sound/iframe/354264/simple/medium/\" width=\"481\" height=\"86\"></iframe><iframe frameborder=\"0\" scrolling=\"no\" src=\"http://www.freesound.org/embed/sound/iframe/354311/simple/medium/\" width=\"481\" height=\"86\"></iframe><iframe frameborder=\"0\" scrolling=\"no\" src=\"http://www.freesound.org/embed/sound/iframe/354313/simple/medium/\" width=\"481\" height=\"86\"></iframe><iframe frameborder=\"0\" scrolling=\"no\" src=\"http://www.freesound.org/embed/sound/iframe/357935/simple/medium/\" width=\"481\" height=\"86\"></iframe><iframe frameborder=\"0\" scrolling=\"no\" src=\"http://www.freesound.org/embed/sound/iframe/357941/simple/medium/\" width=\"481\" height=\"86\"></iframe><h4>Most commons tags tagcloud:</h4><br><span style=\"font-size:10px;margin-right:10px;\">C3</span> <span style=\"font-size:11px;margin-right:10px;\">non-vibrato</span> <span style=\"font-size:10px;margin-right:10px;\">c5</span> <span style=\"font-size:10px;margin-right:10px;\">chordophone</span> <span style=\"font-size:10px;margin-right:10px;\">Gsharp3</span> <span style=\"font-size:10px;margin-right:10px;\">midi-note-60</span> <span style=\"font-size:10px;margin-right:10px;\">Asharp3</span> <span style=\"font-size:10px;margin-right:10px;\">mezzoforte</span> <span style=\"font-size:10px;margin-right:10px;\">zoom-h2n</span> <span style=\"font-size:10px;margin-right:10px;\">slow</span> <span style=\"font-size:10px;margin-right:10px;\">tenuto</span> <span style=\"font-size:10px;margin-right:10px;\">phone</span> <span style=\"font-size:10px;margin-right:10px;\">acoustic</span> <span style=\"font-size:10px;margin-right:10px;\">C4</span> <span style=\"font-size:13px;margin-right:10px;\">strings</span> <span style=\"font-size:10px;margin-right:10px;\">Double</span> <span style=\"font-size:10px;margin-right:10px;\">Gsharp2</span> <span style=\"font-size:10px;margin-right:10px;\">bad</span> <span style=\"font-size:10px;margin-right:10px;\">Fsharp2</span> <span style=\"font-size:10px;margin-right:10px;\">Dsharp4</span> <span style=\"font-size:19px;margin-right:10px;\">violin</span> <span style=\"font-size:10px;margin-right:10px;\">dirty</span> <span style=\"font-size:10px;margin-right:10px;\">Gsharp4</span> <span style=\"font-size:10px;margin-right:10px;\">bass</span> <span style=\"font-size:10px;margin-right:10px;\">Csharp2</span> <span style=\"font-size:10px;margin-right:10px;\">midi-note-86</span> <span style=\"font-size:10px;margin-right:10px;\">col-legno</span> <span style=\"font-size:10px;margin-right:10px;\">contrabass</span> <span style=\"font-size:11px;margin-right:10px;\">vsco-2</span> <span style=\"font-size:10px;margin-right:10px;\">C2</span> <span style=\"font-size:10px;margin-right:10px;\">loops</span> <span style=\"font-size:10px;margin-right:10px;\">g2</span> <span style=\"font-size:10px;margin-right:10px;\">double</span> <span style=\"font-size:10px;margin-right:10px;\">zoom</span> <span style=\"font-size:10px;margin-right:10px;\">g-3</span> <span style=\"font-size:10px;margin-right:10px;\">message</span> <span style=\"font-size:10px;margin-right:10px;\">descending</span> <span style=\"font-size:10px;margin-right:10px;\">classic</span> <span style=\"font-size:10px;margin-right:10px;\">glitchy</span> <span style=\"font-size:11px;margin-right:10px;\">double-bass</span> <span style=\"font-size:10px;margin-right:10px;\">vibrato</span> <span style=\"font-size:10px;margin-right:10px;\">midi-note-72</span> <span style=\"font-size:10px;margin-right:10px;\">scale</span> <span style=\"font-size:10px;margin-right:10px;\">bowed</span> <span style=\"font-size:10px;margin-right:10px;\">d6</span> <span style=\"font-size:10px;margin-right:10px;\">esharp3</span> <span style=\"font-size:10px;margin-right:10px;\">orchestra</span> <span style=\"font-size:10px;margin-right:10px;\">plucked</span> <span style=\"font-size:10px;margin-right:10px;\">midi-note-67</span> <span style=\"font-size:21px;margin-right:10px;\">pizzicato</span> <span style=\"font-size:10px;margin-right:10px;\">Stereo</span> <span style=\"font-size:10px;margin-right:10px;\">bowing</span> <span style=\"font-size:10px;margin-right:10px;\">tight-pizzicato</span> <span style=\"font-size:10px;margin-right:10px;\">a3</span> <span style=\"font-size:10px;margin-right:10px;\">B3</span> <span style=\"font-size:10px;margin-right:10px;\">midi-note-83</span> <span style=\"font-size:10px;margin-right:10px;\">g-sharp-1</span> <span style=\"font-size:10px;margin-right:10px;\">midi-velocity-31</span> <span style=\"font-size:10px;margin-right:10px;\">b5</span> <span style=\"font-size:17px;margin-right:10px;\">good-sounds</span> <span style=\"font-size:10px;margin-right:10px;\">G2</span> <span style=\"font-size:10px;margin-right:10px;\">midi-note-57</span> <span style=\"font-size:10px;margin-right:10px;\">b3</span> <span style=\"font-size:10px;margin-right:10px;\">Acoustic</span> <span style=\"font-size:10px;margin-right:10px;\">ensemble</span> <span style=\"font-size:10px;margin-right:10px;\">g-sharp-3</span> <span style=\"font-size:30px;margin-right:10px;\">multisample</span> <span style=\"font-size:10px;margin-right:10px;\">fsharp4</span> <span style=\"font-size:10px;margin-right:10px;\">midi-note-69</span> <span style=\"font-size:10px;margin-right:10px;\">note</span> <span style=\"font-size:10px;margin-right:10px;\">violin-section</span> <span style=\"font-size:10px;margin-right:10px;\">viola</span> <span style=\"font-size:10px;margin-right:10px;\">Fsharp3</span> <span style=\"font-size:10px;margin-right:10px;\">Upright</span> <span style=\"font-size:10px;margin-right:10px;\">orchestral</span> <span style=\"font-size:10px;margin-right:10px;\">glitch</span> <span style=\"font-size:10px;margin-right:10px;\">midi-velocity-95</span> <span style=\"font-size:10px;margin-right:10px;\">pluck</span> <span style=\"font-size:10px;margin-right:10px;\">b-4</span> <span style=\"font-size:18px;margin-right:10px;\">cello</span> <span style=\"font-size:10px;margin-right:10px;\">recording</span> <span style=\"font-size:10px;margin-right:10px;\">A3</span> <span style=\"font-size:10px;margin-right:10px;\">c4</span> <span style=\"font-size:10px;margin-right:10px;\">Plucked</span> <span style=\"font-size:10px;margin-right:10px;\">cello-section</span> <span style=\"font-size:10px;margin-right:10px;\">cheap</span> <span style=\"font-size:24px;margin-right:10px;\">single-note</span> <span style=\"font-size:10px;margin-right:10px;\">Instrument</span> <span style=\"font-size:17px;margin-right:10px;\">neumann-U87</span> <span style=\"font-size:10px;margin-right:10px;\">G3</span> <span style=\"font-size:10px;margin-right:10px;\">Bass</span> <span style=\"font-size:10px;margin-right:10px;\">string-instrument</span> <span style=\"font-size:10px;margin-right:10px;\">midi-note-53</span> <span style=\"font-size:10px;margin-right:10px;\">solo-violin</span> <span style=\"font-size:10px;margin-right:10px;\">Standup</span> <span style=\"font-size:10px;margin-right:10px;\">F4</span> <span style=\"font-size:10px;margin-right:10px;\">D3</span> <span style=\"font-size:10px;margin-right:10px;\">a4</span> <span style=\"font-size:10px;margin-right:10px;\">midi-velocity-63</span> <span style=\"font-size:10px;margin-right:10px;\">midi-note-59</span> <br><br>"
      ],
      "text/plain": [
       "<IPython.core.display.HTML object>"
      ]
     },
     "metadata": {},
     "output_type": "display_data"
    },
    {
     "data": {
      "text/html": [
       "<h3 style='color:#bbb;'>4) Wind instrument, woodwind instrument</h3><h4>Example sounds:</h4><br><iframe frameborder=\"0\" scrolling=\"no\" src=\"http://www.freesound.org/embed/sound/iframe/331002/simple/medium/\" width=\"481\" height=\"86\"></iframe><iframe frameborder=\"0\" scrolling=\"no\" src=\"http://www.freesound.org/embed/sound/iframe/354392/simple/medium/\" width=\"481\" height=\"86\"></iframe><iframe frameborder=\"0\" scrolling=\"no\" src=\"http://www.freesound.org/embed/sound/iframe/354434/simple/medium/\" width=\"481\" height=\"86\"></iframe><iframe frameborder=\"0\" scrolling=\"no\" src=\"http://www.freesound.org/embed/sound/iframe/354454/simple/medium/\" width=\"481\" height=\"86\"></iframe><iframe frameborder=\"0\" scrolling=\"no\" src=\"http://www.freesound.org/embed/sound/iframe/354475/simple/medium/\" width=\"481\" height=\"86\"></iframe><iframe frameborder=\"0\" scrolling=\"no\" src=\"http://www.freesound.org/embed/sound/iframe/356721/simple/medium/\" width=\"481\" height=\"86\"></iframe><h4>Most commons tags tagcloud:</h4><br><span style=\"font-size:10px;margin-right:10px;\">medieval</span> <span style=\"font-size:10px;margin-right:10px;\">staccato</span> <span style=\"font-size:10px;margin-right:10px;\">Instruments</span> <span style=\"font-size:10px;margin-right:10px;\">midi-velocity-62</span> <span style=\"font-size:10px;margin-right:10px;\">native-american</span> <span style=\"font-size:10px;margin-right:10px;\">Enatural</span> <span style=\"font-size:12px;margin-right:10px;\">bassoon</span> <span style=\"font-size:10px;margin-right:10px;\">multiphonics</span> <span style=\"font-size:10px;margin-right:10px;\">midi-note-52</span> <span style=\"font-size:10px;margin-right:10px;\">soprano-saxophone</span> <span style=\"font-size:23px;margin-right:10px;\">neumann-U87</span> <span style=\"font-size:10px;margin-right:10px;\">D6</span> <span style=\"font-size:14px;margin-right:10px;\">woodwind</span> <span style=\"font-size:10px;margin-right:10px;\">Gmajor</span> <span style=\"font-size:10px;margin-right:10px;\">aerophone</span> <span style=\"font-size:10px;margin-right:10px;\">c-sharp-3</span> <span style=\"font-size:10px;margin-right:10px;\">birds</span> <span style=\"font-size:16px;margin-right:10px;\">saxophone</span> <span style=\"font-size:10px;margin-right:10px;\">E4</span> <span style=\"font-size:10px;margin-right:10px;\">Asharp3</span> <span style=\"font-size:10px;margin-right:10px;\">midi-note-72</span> <span style=\"font-size:10px;margin-right:10px;\">Csharp5</span> <span style=\"font-size:23px;margin-right:10px;\">good-sounds</span> <span style=\"font-size:10px;margin-right:10px;\">E3</span> <span style=\"font-size:10px;margin-right:10px;\">vibrato</span> <span style=\"font-size:13px;margin-right:10px;\">clarinet</span> <span style=\"font-size:10px;margin-right:10px;\">c4</span> <span style=\"font-size:10px;margin-right:10px;\">D4</span> <span style=\"font-size:10px;margin-right:10px;\">d-2</span> <span style=\"font-size:10px;margin-right:10px;\">F4</span> <span style=\"font-size:10px;margin-right:10px;\">midi-note-88</span> <span style=\"font-size:10px;margin-right:10px;\">Fsharp5</span> <span style=\"font-size:10px;margin-right:10px;\">flauto-dolce</span> <span style=\"font-size:10px;margin-right:10px;\">vibrato-sustain</span> <span style=\"font-size:10px;margin-right:10px;\">midi-velocity-95</span> <span style=\"font-size:30px;margin-right:10px;\">multisample</span> <span style=\"font-size:10px;margin-right:10px;\">C4</span> <span style=\"font-size:10px;margin-right:10px;\">non-vibrato</span> <span style=\"font-size:10px;margin-right:10px;\">Dsharp5</span> <span style=\"font-size:10px;margin-right:10px;\">alto-sax</span> <span style=\"font-size:10px;margin-right:10px;\">minor</span> <span style=\"font-size:25px;margin-right:10px;\">single-note</span> <span style=\"font-size:10px;margin-right:10px;\">melody</span> <span style=\"font-size:10px;margin-right:10px;\">music</span> <span style=\"font-size:10px;margin-right:10px;\">midi-note-89</span> <span style=\"font-size:10px;margin-right:10px;\">native-american-flute</span> <span style=\"font-size:10px;margin-right:10px;\">scale</span> <span style=\"font-size:10px;margin-right:10px;\">soprano</span> <span style=\"font-size:10px;margin-right:10px;\">e6</span> <span style=\"font-size:10px;margin-right:10px;\">pad</span> <span style=\"font-size:10px;margin-right:10px;\">jazz</span> <span style=\"font-size:15px;margin-right:10px;\">sax</span> <span style=\"font-size:11px;margin-right:10px;\">oboe</span> <span style=\"font-size:10px;margin-right:10px;\">caroli</span> <span style=\"font-size:10px;margin-right:10px;\">soprano-sax</span> <span style=\"font-size:10px;margin-right:10px;\">B5</span> <span style=\"font-size:10px;margin-right:10px;\">Asharp4</span> <span style=\"font-size:10px;margin-right:10px;\">Gsharp4</span> <span style=\"font-size:10px;margin-right:10px;\">midi-note-45</span> <span style=\"font-size:10px;margin-right:10px;\">sustain</span> <span style=\"font-size:10px;margin-right:10px;\">B4</span> <span style=\"font-size:14px;margin-right:10px;\">flute</span> <span style=\"font-size:10px;margin-right:10px;\">Fsharp4</span> <span style=\"font-size:10px;margin-right:10px;\">midi-note-76</span> <span style=\"font-size:10px;margin-right:10px;\">e-3</span> <span style=\"font-size:10px;margin-right:10px;\">midi-velocity-105</span> <span style=\"font-size:11px;margin-right:10px;\">vsco-2</span> <span style=\"font-size:10px;margin-right:10px;\">mezzoforte</span> <span style=\"font-size:10px;margin-right:10px;\">midi-note-70</span> <span style=\"font-size:10px;margin-right:10px;\">Asharp5</span> <span style=\"font-size:10px;margin-right:10px;\">C6</span> <span style=\"font-size:10px;margin-right:10px;\">vst</span> <span style=\"font-size:10px;margin-right:10px;\">D3</span> <span style=\"font-size:10px;margin-right:10px;\">midi-note-58</span> <span style=\"font-size:10px;margin-right:10px;\">african</span> <span style=\"font-size:10px;margin-right:10px;\">swing</span> <span style=\"font-size:10px;margin-right:10px;\">G3</span> <span style=\"font-size:10px;margin-right:10px;\">d-sharp-2</span> <span style=\"font-size:10px;margin-right:10px;\">tenuto</span> <span style=\"font-size:10px;margin-right:10px;\">Dnatural</span> <span style=\"font-size:10px;margin-right:10px;\">c5</span> <span style=\"font-size:10px;margin-right:10px;\">B3</span> <span style=\"font-size:10px;margin-right:10px;\">Acoustic</span> <span style=\"font-size:10px;margin-right:10px;\">midi-note-60</span> <span style=\"font-size:10px;margin-right:10px;\">e5</span> <span style=\"font-size:10px;margin-right:10px;\">sampled-instruments</span> <span style=\"font-size:10px;margin-right:10px;\">Fmajor</span> <span style=\"font-size:10px;margin-right:10px;\">schoeps-mk4</span> <span style=\"font-size:10px;margin-right:10px;\">asharp4</span> <span style=\"font-size:11px;margin-right:10px;\">woodwinds</span> <span style=\"font-size:10px;margin-right:10px;\">double-reed</span> <span style=\"font-size:10px;margin-right:10px;\">hip-hop</span> <span style=\"font-size:10px;margin-right:10px;\">G6</span> <span style=\"font-size:10px;margin-right:10px;\">a2</span> <span style=\"font-size:10px;margin-right:10px;\">Asharpmajor</span> <span style=\"font-size:10px;margin-right:10px;\">loop</span> <span style=\"font-size:10px;margin-right:10px;\">D5</span> <span style=\"font-size:10px;margin-right:10px;\">midi-velocity-31</span> <span style=\"font-size:10px;margin-right:10px;\">E5</span> <span style=\"font-size:10px;margin-right:10px;\">recorder</span> <br><br>"
      ],
      "text/plain": [
       "<IPython.core.display.HTML object>"
      ]
     },
     "metadata": {},
     "output_type": "display_data"
    }
   ],
   "source": [
    "# Pick some sounds from each category and show players (Freesound embeds) to listen to them\n",
    "for count, (class_name, sounds) in enumerate(dataset.items()):\n",
    "    html = \"<h3 style='color:#bbb;'>%i) %s</h3>\" % (count + 1, class_name)\n",
    "    html += \"<h4>Example sounds:</h4><br>\"\n",
    "    html += utils.generate_html_with_sound_examples([sound['id'] for sound in sounds][:6])\n",
    "    html += \"<h4>Most commons tags tagcloud:</h4><br>\"\n",
    "    class_tags = utils.get_all_tags_from_class(class_name, dataset)\n",
    "    html += utils.generate_html_tagcloud(class_tags, N=100, max_px=30, min_px=10, pow_scale=1.2)\n",
    "    html += \"<br><br>\"\n",
    "    display(HTML(html)) # <- This is pure jupyter notebook AWESOMENESS which renders the HTML in the output of the cell"
   ]
  },
  {
   "cell_type": "code",
   "execution_count": null,
   "metadata": {},
   "outputs": [],
   "source": []
  }
 ],
 "metadata": {
  "kernelspec": {
   "display_name": "Python 3",
   "language": "python",
   "name": "python3"
  },
  "language_info": {
   "codemirror_mode": {
    "name": "ipython",
    "version": 3
   },
   "file_extension": ".py",
   "mimetype": "text/x-python",
   "name": "python",
   "nbconvert_exporter": "python",
   "pygments_lexer": "ipython3",
   "version": "3.5.2"
  }
 },
 "nbformat": 4,
 "nbformat_minor": 1
}
